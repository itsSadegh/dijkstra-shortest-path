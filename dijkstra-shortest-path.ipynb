{
 "cells": [
  {
   "cell_type": "markdown",
   "id": "219b9602",
   "metadata": {},
   "source": [
    "# Dijkstra's algorithm\n"
   ]
  },
  {
   "cell_type": "code",
   "execution_count": 1,
   "id": "9be04e0a",
   "metadata": {},
   "outputs": [],
   "source": [
    "import heapq\n",
    "\n"
   ]
  },
  {
   "cell_type": "markdown",
   "id": "f268404e",
   "metadata": {},
   "source": [
    "In the context of Dijkstra's algorithm, the heapq module,also known as the priority queue algorithm, is commonly used to efficiently extract the minimum distance vertex during each iteration."
   ]
  },
  {
   "cell_type": "code",
   "execution_count": 6,
   "id": "5596e5a1",
   "metadata": {},
   "outputs": [],
   "source": [
    "def dijkstra(graph, start, goal):\n",
    "    \"\"\"\n",
    "    Dijkstra's algorithm for finding the shortest paths from a starting vertex to a goal vertex in a graph.\n",
    "\n",
    "    Parameters:\n",
    "    - graph (dict): A dictionary representing the graph with vertices as keys and their neighbors and weights as values.\n",
    "    - start (str): The starting vertex for the shortest path calculations.\n",
    "    - goal (str): The goal vertex to find the shortest path to.\n",
    "\n",
    "    Returns:\n",
    "    - dict: A dictionary containing the shortest distances from the starting vertex to all other vertices.\n",
    "    \"\"\"\n",
    "    distances = {vertex: {'distance': float('infinity'), 'previous': None} for vertex in graph}\n",
    "    distances[start]['distance'] = 0\n",
    "    priority_queue = [(0, start)]\n",
    "\n",
    "    while priority_queue:\n",
    "        current_distance, current_vertex = heapq.heappop(priority_queue)\n",
    "\n",
    "        if current_distance > distances[current_vertex]['distance']:\n",
    "            continue\n",
    "\n",
    "        for neighbor, weight in graph[current_vertex].items():\n",
    "            distance = current_distance + weight\n",
    "\n",
    "            if distance < distances[neighbor]['distance']:\n",
    "                distances[neighbor]['distance'] = distance\n",
    "                distances[neighbor]['previous'] = current_vertex\n",
    "                heapq.heappush(priority_queue, (distance, neighbor))\n",
    "\n",
    "    return distances\n"
   ]
  },
  {
   "cell_type": "code",
   "execution_count": 7,
   "id": "828e637c",
   "metadata": {},
   "outputs": [],
   "source": [
    "def get_user_input():\n",
    "    \"\"\"\n",
    "    Function to interactively get user input for defining distances between specified vertices.\n",
    "\n",
    "    Returns:\n",
    "    - dict: A dictionary representing the graph with vertices as keys and their neighbors and weights as values.\n",
    "    \"\"\"\n",
    "    print(\"Enter distances for the specified connections.\")\n",
    "    user_input = {}\n",
    "\n",
    "    connections = ['AB','AD', 'BD', 'BE', 'EF', 'FC', 'EC', 'DE', 'DF']\n",
    "\n",
    "    for connection in connections:\n",
    "        vertex1, vertex2 = connection[0], connection[1]\n",
    "        distance = int(input(f\"Distance between {vertex1} and {vertex2}: \"))\n",
    "\n",
    "        if vertex1 not in user_input:\n",
    "            user_input[vertex1] = {}\n",
    "        user_input[vertex1][vertex2] = distance\n",
    "\n",
    "        if vertex2 not in user_input:\n",
    "            user_input[vertex2] = {}\n",
    "        user_input[vertex2][vertex1] = distance\n",
    "\n",
    "    return user_input\n"
   ]
  },
  {
   "cell_type": "code",
   "execution_count": 8,
   "id": "8c0cdc62",
   "metadata": {
    "scrolled": false
   },
   "outputs": [
    {
     "name": "stdout",
     "output_type": "stream",
     "text": [
      "Enter distances for the specified connections.\n",
      "Distance between A and B: 2\n",
      "Distance between A and D: 8\n",
      "Distance between B and D: 5\n",
      "Distance between B and E: 6\n",
      "Distance between E and F: 1\n",
      "Distance between F and C: 3\n",
      "Distance between E and C: 9\n",
      "Distance between D and E: 3\n",
      "Distance between D and F: 2\n",
      "Shortest path from A to C: ['A', 'B', 'D', 'F', 'C']\n",
      "Distance: {'distance': 12, 'previous': 'F'}\n"
     ]
    }
   ],
   "source": [
    "def main():\n",
    "    \"\"\"\n",
    "    Main function to run Dijkstra's algorithm and display the results for the user-defined graph.\n",
    "    \"\"\"\n",
    "    # Get user input for distances\n",
    "    user_input = get_user_input()\n",
    "\n",
    "    # Create the graph dictionary\n",
    "    graph = {vertex: {neighbor: weight for neighbor, weight in neighbors.items()} for vertex, neighbors in user_input.items()}\n",
    "\n",
    "    # Hardcoded vertices\n",
    "    start_vertex = 'A'\n",
    "    goal_vertex = 'C'\n",
    "\n",
    "    # Run Dijkstra's algorithm\n",
    "    shortest_paths = dijkstra(graph, start_vertex, goal_vertex)\n",
    "\n",
    "    # Extract the optimal path\n",
    "    optimal_path = extract_path(shortest_paths, start_vertex, goal_vertex)\n",
    "\n",
    "    # Display the result\n",
    "    print(f\"Shortest path from {start_vertex} to {goal_vertex}: {optimal_path}\")\n",
    "    print(f\"Distance: {shortest_paths[goal_vertex]}\")\n",
    "\n",
    "def extract_path(shortest_paths, start, goal):\n",
    "    \"\"\"\n",
    "    Extract the optimal path from the shortest paths dictionary.\n",
    "\n",
    "    Parameters:\n",
    "    - shortest_paths (dict): A dictionary containing the shortest distances from the starting vertex to all other vertices.\n",
    "    - start (str): The starting vertex.\n",
    "    - goal (str): The goal vertex.\n",
    "\n",
    "    Returns:\n",
    "    - list: The optimal path from the starting vertex to the goal vertex.\n",
    "    \"\"\"\n",
    "    path = [goal]\n",
    "    current_vertex = goal\n",
    "\n",
    "    while current_vertex != start:\n",
    "        current_vertex = shortest_paths[current_vertex]['previous']\n",
    "        path.insert(0, current_vertex)\n",
    "\n",
    "    return path\n",
    "\n",
    "if __name__ == \"__main__\":\n",
    "    main()\n"
   ]
  },
  {
   "cell_type": "markdown",
   "id": "7c013f86",
   "metadata": {
    "direction": "rtl"
   },
   "source": [
    "##  پیچیدگی زمانی الگوریتم با استفاده از     Big O     "
   ]
  },
  {
   "cell_type": "markdown",
   "id": "b40046ce",
   "metadata": {
    "direction": "rtl"
   },
   "source": [
    " الگوریتم دایکسترا از دو قسمت اصلی تشکیل شده :\n",
    "\n",
    "1. **مرحله مقدماتی (Initialization)**: مقداردهی اولیه برای فواصل صف اولویت و سایر ساختارهای داده. این قسمت به مرتبه (O(V اجرا میشه، که V تعداد راس های گراف هستش.\n",
    "  \n",
    "2. **حلقه اصلی (Main Loop)**: حلقه اصلی در بدترین حالت از تمام رئوس و یال‌ها عبور میکند. برای هر یال، اگر مسیر کوتاه‌تری پیدا بشه فاصله را بروز میکند. عملیات‌های صف اولویت همچنین به پیچیدگی زمانی افزوده می‌شوند.\n",
    "   \n",
    "   - حلقه داخلی که فواصل بروزرسانی می‌شوند، حداکثر (O(E بار اجرا می‌شود، که در آن E تعداد یال‌ها است.\n",
    "   - هر عملیات صف اولویت (درج و خروج کمینه) به مرتبه (O(log V طول می‌کشد.\n",
    "\n",
    "بنابراین، پیچیدگی زمانی کل الگوریتم دایکسترا به صورت \n",
    "$$O(V \\log V + E \\log V)$$ \n",
    "خواهد بود که می‌توان آن را به \n",
    "$$O((V + E) \\log V)$$ \n",
    "ساده کرد. در بدترین حالت، زمانی که گراف چگال و تعداد یال‌ها به \n",
    "$$V^2$$ \n",
    "نزدیک است، می‌توان آن را به صورت تقریبی \n",
    "$$O(V^2 \\log V)$$ \n",
    "نیز نوشت.\n",
    "\n",
    "\n"
   ]
  }
 ],
 "metadata": {
  "kernelspec": {
   "display_name": "Python 3 (ipykernel)",
   "language": "python",
   "name": "python3"
  },
  "language_info": {
   "codemirror_mode": {
    "name": "ipython",
    "version": 3
   },
   "file_extension": ".py",
   "mimetype": "text/x-python",
   "name": "python",
   "nbconvert_exporter": "python",
   "pygments_lexer": "ipython3",
   "version": "3.9.7"
  }
 },
 "nbformat": 4,
 "nbformat_minor": 5
}
